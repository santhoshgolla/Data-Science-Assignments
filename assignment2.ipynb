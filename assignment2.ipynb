{
  "cells": [
    {
      "cell_type": "code",
      "source": [],
      "metadata": {
        "id": "za-v59CKM-Q8"
      },
      "execution_count": null,
      "outputs": []
    },
    {
      "cell_type": "markdown",
      "metadata": {
        "id": "q5yTPCu8YWLh"
      },
      "source": [
        "## Question 1"
      ]
    },
    {
      "cell_type": "markdown",
      "metadata": {
        "id": "SAtB1NrNYWLi"
      },
      "source": [
        "- `Take two integer numbers and return their product. If the product is greater than 1000, then return their sum if product is less than 1000 return product value only.`\n",
        "\n"
      ]
    },
    {
      "cell_type": "code",
      "execution_count": null,
      "metadata": {
        "id": "6Bt3QbJhYWLi",
        "outputId": "61430806-478f-466b-9078-8c7690c16a1f",
        "colab": {
          "base_uri": "https://localhost:8080/"
        }
      },
      "outputs": [
        {
          "output_type": "stream",
          "name": "stdout",
          "text": [
            "5\n",
            "6\n",
            "30\n"
          ]
        }
      ],
      "source": [
        "# Please write The solution Here for above question 1:\n",
        "def naruto():\n",
        "  a=int(input())\n",
        "  b=int(input())\n",
        "  if(a*b>1000):\n",
        "    return a+b\n",
        "  else:\n",
        "    return a*b\n",
        "res=naruto()\n",
        "print(res)\n",
        "\n",
        "\n"
      ]
    },
    {
      "cell_type": "markdown",
      "metadata": {
        "id": "4vJ2lweyYWLj"
      },
      "source": [
        "## question 2"
      ]
    },
    {
      "cell_type": "markdown",
      "metadata": {
        "id": "CEPZqiMvYWLj"
      },
      "source": [
        "- `Given a range of the first 10 numbers, Iterate from the start number to the end number, and In each iteration print the sum of the current number and previous number`\n",
        "\n",
        "Expected output:\n",
        "-----------------\n",
        "    Printing current and previous number sum in a range(10)\n",
        "    Current Number 0 Previous Number  0  Sum:  0\n",
        "    Current Number 1 Previous Number  0  Sum:  1\n",
        "    Current Number 2 Previous Number  1  Sum:  3\n",
        "    Current Number 3 Previous Number  2  Sum:  5\n",
        "    Current Number 4 Previous Number  3  Sum:  7\n",
        "    Current Number 5 Previous Number  4  Sum:  9\n",
        "    Current Number 6 Previous Number  5  Sum:  11\n",
        "    Current Number 7 Previous Number  6  Sum:  13\n",
        "    Current Number 8 Previous Number  7  Sum:  15\n",
        "    Current Number 9 Previous Number  8  Sum:  17"
      ]
    },
    {
      "cell_type": "code",
      "execution_count": null,
      "metadata": {
        "id": "lpoXadnFYWLj",
        "outputId": "95ff606d-3dd8-4687-ad82-6a3c2b132cf6",
        "colab": {
          "base_uri": "https://localhost:8080/"
        }
      },
      "outputs": [
        {
          "output_type": "stream",
          "name": "stdout",
          "text": [
            "Current Number0 Previous Number 0 Sum: 0\n",
            "Current Number1 Previous Number 0 Sum: 1\n",
            "Current Number2 Previous Number 1 Sum: 3\n",
            "Current Number3 Previous Number 2 Sum: 5\n",
            "Current Number4 Previous Number 3 Sum: 7\n",
            "Current Number5 Previous Number 4 Sum: 9\n",
            "Current Number6 Previous Number 5 Sum: 11\n",
            "Current Number7 Previous Number 6 Sum: 13\n",
            "Current Number8 Previous Number 7 Sum: 15\n",
            "Current Number9 Previous Number 8 Sum: 17\n"
          ]
        }
      ],
      "source": [
        "# Please write The solution Here for above question 2:\n",
        "\n",
        "for i in range(10):\n",
        "  if(i==0):\n",
        "    print(f'Current Number{i} Previous Number {i} Sum: {i+i}')\n",
        "  else:\n",
        "     print(f'Current Number{i} Previous Number {i-1} Sum: {i+i-1}')\n",
        "\n"
      ]
    },
    {
      "cell_type": "markdown",
      "metadata": {
        "id": "ydpS-P0BYWLk"
      },
      "source": [
        "## question 3"
      ]
    },
    {
      "cell_type": "markdown",
      "metadata": {
        "id": "osHO_iBfYWLk"
      },
      "source": [
        "Given a string and an integer number n, remove characters from a string starting from zero up to n and return a new string\n",
        "\n",
        "- Example :\n",
        "     `(\"pynative\", 4) so output must be tive.`\n",
        "     \n",
        "     `Note: n must be less than the length of the string.`"
      ]
    },
    {
      "cell_type": "code",
      "execution_count": null,
      "metadata": {
        "id": "FT37C-xDYWLk",
        "outputId": "f9d857a2-be18-4246-fd8e-07308f5e928b",
        "colab": {
          "base_uri": "https://localhost:8080/"
        }
      },
      "outputs": [
        {
          "output_type": "stream",
          "name": "stdout",
          "text": [
            "4\n",
            "osh\n"
          ]
        }
      ],
      "source": [
        "# Please write The solution Here for above question 3:\n",
        "def A(s,n):\n",
        "  if(n>=len(s)):\n",
        "    return 'invalid'\n",
        "  else:\n",
        "    return s[n+1:]\n",
        "s=\"santhosh\"\n",
        "n=int(input())\n",
        "sol=A(s,n)\n",
        "print(sol)\n",
        "\n",
        "\n"
      ]
    },
    {
      "cell_type": "markdown",
      "metadata": {
        "id": "HvWjukFeYWLk"
      },
      "source": [
        "## question 4"
      ]
    },
    {
      "cell_type": "markdown",
      "metadata": {
        "id": "Yp2BUTcHYWLl"
      },
      "source": [
        "### `Given a list of numbers, return True if first and last number of a list is same`\n",
        "\n",
        "    Expected Output:\n",
        "    -------------------------------------\n",
        "\n",
        "    Given list is\n",
        "    a =  [10, 20, 30, 40, 10]\n",
        "    b = [10 , 20 , 30 , 40, 10 ]\n",
        "    result is True\n",
        "\n",
        "    Given list is  \n",
        "    a = [10, 20, 30, 40, 50]\n",
        "    b = [11 , 21 , 31 , 41 , 51 ]\n",
        "    result is False"
      ]
    },
    {
      "cell_type": "code",
      "execution_count": null,
      "metadata": {
        "id": "l_bXhb_5YWLl",
        "outputId": "3bd899a9-8eca-4669-afce-c0f42aed6021",
        "colab": {
          "base_uri": "https://localhost:8080/"
        }
      },
      "outputs": [
        {
          "output_type": "stream",
          "name": "stdout",
          "text": [
            "[10, 20, 30, 40, 10]\n",
            "[10, 20, 30, 40, 10]\n",
            "result is true\n"
          ]
        }
      ],
      "source": [
        "# Please write The solution Here for above question 4:\n",
        "a =  [10, 20, 30, 40, 10]\n",
        "b = [10 , 20 , 30 , 40, 10 ]\n",
        "l=len(b)\n",
        "if(a[0]==a[l-1] and b[0]==b[l-1]):\n",
        "  print(a)\n",
        "  print(b)\n",
        "  print(\"result is true\")\n",
        "else:\n",
        "   print(a)\n",
        "   print(b)\n",
        "   print(\"result is false\")\n"
      ]
    },
    {
      "cell_type": "markdown",
      "metadata": {
        "id": "k9a8ud8fYWLl"
      },
      "source": [
        "## question 5"
      ]
    },
    {
      "cell_type": "markdown",
      "metadata": {
        "id": "Vv-MVSDhYWLl"
      },
      "source": [
        "### Given a two Python list. Iterate both lists simultaneously such that list1 should display item in original order and list2 in reverse order\n",
        "\n",
        "    list1 = [10, 20, 30, 40]\n",
        "    list2 = [100, 200, 300, 400]\n",
        "\n",
        "\n",
        "    Expected output:\n",
        "    -----------------------------\n",
        "    10 400\n",
        "    20 300\n",
        "    30 200\n",
        "    40 100"
      ]
    },
    {
      "cell_type": "code",
      "execution_count": null,
      "metadata": {
        "id": "XCaA0UasYWLl",
        "outputId": "fd45de65-9da2-46ab-c2c4-0830caec9e91",
        "colab": {
          "base_uri": "https://localhost:8080/"
        }
      },
      "outputs": [
        {
          "output_type": "stream",
          "name": "stdout",
          "text": [
            "10 400\n",
            "20 300\n",
            "30 200\n",
            "40 100\n"
          ]
        }
      ],
      "source": [
        "# Please write The solution Here for above question 5:\n",
        "list1 = [10, 20, 30, 40]\n",
        "list2 = [100, 200, 300, 400]\n",
        "list2.reverse()\n",
        "for i in range(0,len(list1)):\n",
        "  print(list1[i],end=\" \")\n",
        "  print(list2[i])\n",
        "\n"
      ]
    },
    {
      "cell_type": "markdown",
      "metadata": {
        "id": "fvX_kZIZYWLl"
      },
      "source": [
        "## question 6"
      ]
    },
    {
      "cell_type": "markdown",
      "metadata": {
        "id": "JCWSXerPYWLl"
      },
      "source": [
        "### Remove empty strings from the list of strings\n",
        "\n",
        "\n",
        "    list1 = [\"Mike\", \"\", \"Emma\", \"Kelly\", \"\", \"Brad\"]\n",
        "\n",
        "    Expected output:\n",
        "    ----------------------\n",
        "\n",
        "    [\"Mike\", \"Emma\", \"Kelly\", \"Brad\"]\n"
      ]
    },
    {
      "cell_type": "code",
      "execution_count": null,
      "metadata": {
        "id": "ieigzmY1YWLl",
        "outputId": "44dadbc1-e964-4662-fc85-43f324c4488b",
        "colab": {
          "base_uri": "https://localhost:8080/"
        }
      },
      "outputs": [
        {
          "output_type": "stream",
          "name": "stdout",
          "text": [
            "['Mike', 'Emma', 'Kelly', 'Brad']\n"
          ]
        }
      ],
      "source": [
        "# Please write The solution Here for above question 6:\n",
        "lists = [\"Mike\", \"\", \"Emma\", \"Kelly\", \"\", \"Brad\"]\n",
        "sasuke=[]\n",
        "for i in lists:\n",
        "  if(len(i)>0):\n",
        "    sasuke.append(i)\n",
        "  else:\n",
        "    pass\n",
        "print(sasuke)\n",
        "\n"
      ]
    },
    {
      "cell_type": "code",
      "execution_count": null,
      "metadata": {
        "id": "P7kcBe4hYWLm"
      },
      "outputs": [],
      "source": []
    }
  ],
  "metadata": {
    "kernelspec": {
      "display_name": "Python 3 (ipykernel)",
      "language": "python",
      "name": "python3"
    },
    "language_info": {
      "codemirror_mode": {
        "name": "ipython",
        "version": 3
      },
      "file_extension": ".py",
      "mimetype": "text/x-python",
      "name": "python",
      "nbconvert_exporter": "python",
      "pygments_lexer": "ipython3",
      "version": "3.11.5"
    },
    "colab": {
      "provenance": []
    }
  },
  "nbformat": 4,
  "nbformat_minor": 0
}