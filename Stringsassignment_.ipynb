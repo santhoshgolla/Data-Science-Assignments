{
  "cells": [
    {
      "cell_type": "markdown",
      "id": "db689fc2",
      "metadata": {
        "id": "db689fc2"
      },
      "source": [
        "### Question 1: Write a Python program to count the number of characters in a string without using len function.\n",
        "\n",
        "- `sample input : `\n",
        "    - `var = 'python java'`\n",
        "- `sample output :`\n",
        "    - `result : 11`"
      ]
    },
    {
      "cell_type": "code",
      "execution_count": null,
      "id": "c9ce9180",
      "metadata": {
        "id": "c9ce9180",
        "outputId": "05eca268-8581-4dd4-ff51-4b569ce46703",
        "colab": {
          "base_uri": "https://localhost:8080/"
        }
      },
      "outputs": [
        {
          "output_type": "stream",
          "name": "stdout",
          "text": [
            "11\n"
          ]
        }
      ],
      "source": [
        "# Please write The solution Here for above question 1:\n",
        "var='python java'\n",
        "c=0\n",
        "for i in var:\n",
        "  c+=1\n",
        "print(c)\n"
      ]
    },
    {
      "cell_type": "markdown",
      "id": "46f069cc",
      "metadata": {
        "id": "46f069cc"
      },
      "source": [
        "### Question 2: Write a Python program to reverse a string without using [::-1]\n",
        "\n",
        "- `sample input : `\n",
        "    - `var = 'python'`\n",
        "- `sample output :`\n",
        "    - `result : nohtyp`"
      ]
    },
    {
      "cell_type": "code",
      "execution_count": null,
      "id": "2cde3dcc",
      "metadata": {
        "id": "2cde3dcc",
        "outputId": "8e63e69f-bbec-495c-d82f-9f37d0e24c78",
        "colab": {
          "base_uri": "https://localhost:8080/"
        }
      },
      "outputs": [
        {
          "output_type": "stream",
          "name": "stdout",
          "text": [
            "nohtyp"
          ]
        }
      ],
      "source": [
        "# Please write The solution Here for above question 2:\n",
        "var='python'\n",
        "for i in range(len(var)-1,-1,-1):\n",
        "  print(var[i],end='')\n",
        "\n",
        "\n"
      ]
    },
    {
      "cell_type": "markdown",
      "id": "0f3a2ef5",
      "metadata": {
        "id": "0f3a2ef5"
      },
      "source": [
        "### Question 3: Write a Python program to check if a string is a palindrome don't use [::-1].\n",
        "\n",
        "- `sample input : `\n",
        "    - `var = 'NUN'`\n",
        "- `sample output :`\n",
        "    - `result : It is a Palindrome`\n",
        "    \n",
        "- `palindrome concept = https://www.dictionary.com/e/palindromic-word/#:~:text=A%20palindrome%20is%20a%20word,roots%20in%20the%20early%201600s.`"
      ]
    },
    {
      "cell_type": "code",
      "execution_count": null,
      "id": "74b9f01a",
      "metadata": {
        "id": "74b9f01a",
        "outputId": "408a9469-8d48-48fd-ccf8-5520b20f5476",
        "colab": {
          "base_uri": "https://localhost:8080/"
        }
      },
      "outputs": [
        {
          "output_type": "stream",
          "name": "stdout",
          "text": [
            "it is a plaindrome\n"
          ]
        }
      ],
      "source": [
        "# Please write The solution Here for above question 3:\n",
        "var='nun'\n",
        "a=''\n",
        "for i in range(len(var)-1,-1,-1):\n",
        "  a=a+var[i]\n",
        "if var==a:\n",
        "  print('it is a plaindrome')\n",
        "else:\n",
        "  print('it is not a plaindrome')\n",
        "\n"
      ]
    },
    {
      "cell_type": "markdown",
      "id": "98e0fc60",
      "metadata": {
        "id": "98e0fc60"
      },
      "source": [
        "### Question 4: Write a Python program to find the most common character in a string.\n",
        "\n",
        "- `sample input : `\n",
        "    - `var = 'Hello world '`\n",
        "- `sample output :`\n",
        "    - `result : l, because l is repeating 3 times `"
      ]
    },
    {
      "cell_type": "code",
      "execution_count": null,
      "id": "d9aa4ca6",
      "metadata": {
        "id": "d9aa4ca6",
        "outputId": "ac67718a-dc17-4179-e2e6-8d9bf270193b",
        "colab": {
          "base_uri": "https://localhost:8080/"
        }
      },
      "outputs": [
        {
          "output_type": "stream",
          "name": "stdout",
          "text": [
            "l because it is repeating 3 times\n"
          ]
        }
      ],
      "source": [
        "# Please write The solution Here for above question 4:\n",
        "var='Hello World'\n",
        "s=''\n",
        "c=0\n",
        "for i in var:\n",
        "  if i not in s:\n",
        "    s=s+i\n",
        "    if var.count(i)>c:\n",
        "      c=var.count(i)\n",
        "      h=i\n",
        "print(f'{h} because it is repeating {c} times')\n",
        "\n",
        "\n",
        "\n"
      ]
    },
    {
      "cell_type": "markdown",
      "id": "17eb44eb",
      "metadata": {
        "id": "17eb44eb"
      },
      "source": [
        "### Question 5: Write a Python program to check if two strings are anagrams.\n",
        "\n",
        "- `sample input : `\n",
        "    - `var1 = 'listen'`\n",
        "    - `var2 = 'silent'`\n",
        "- `sample output :`\n",
        "    - `result : both are anagram because characters in var2 is in var1`"
      ]
    },
    {
      "cell_type": "code",
      "execution_count": null,
      "id": "29f0e87e",
      "metadata": {
        "id": "29f0e87e",
        "outputId": "f0e89104-fa1a-4d1d-8ce5-f579cedb670d",
        "colab": {
          "base_uri": "https://localhost:8080/"
        }
      },
      "outputs": [
        {
          "output_type": "stream",
          "name": "stdout",
          "text": [
            "both are anagram\n"
          ]
        }
      ],
      "source": [
        "# Please write The solution Here for above question 5:\n",
        "var1='listen'\n",
        "var2='silent'\n",
        "if sorted(var2)==sorted(var1):\n",
        "  print('both are anagram')\n",
        "else:\n",
        "  print('both are not anagrams')\n",
        "\n"
      ]
    },
    {
      "cell_type": "markdown",
      "id": "fac17884",
      "metadata": {
        "id": "fac17884"
      },
      "source": [
        "### Question 6: Write a Python program to remove all the vowels from a string.\n",
        "\n",
        "- `sample input : `\n",
        "    - `var = 'python'`\n",
        "- `sample output :`\n",
        "    - `result : pythn , because vowels are [AEIOUaeiou]`"
      ]
    },
    {
      "cell_type": "code",
      "execution_count": null,
      "id": "f4b33095",
      "metadata": {
        "id": "f4b33095",
        "outputId": "7d77406b-cdd6-4039-e55c-51a2b9f02a32",
        "colab": {
          "base_uri": "https://localhost:8080/"
        }
      },
      "outputs": [
        {
          "output_type": "stream",
          "name": "stdout",
          "text": [
            "pythn\n"
          ]
        }
      ],
      "source": [
        "# Please write The solution Here for above question 6:\n",
        "vow='aeiouAEIOU'\n",
        "var='python'\n",
        "rem=''\n",
        "for i in var:\n",
        "  if i not in vow:\n",
        "    rem=rem+i\n",
        "  else:\n",
        "    rem=rem\n",
        "print(rem)\n"
      ]
    },
    {
      "cell_type": "markdown",
      "id": "2170d6f4",
      "metadata": {
        "id": "2170d6f4"
      },
      "source": [
        "### Question 7: Write a Python program to find the longest word in a string.\n",
        "\n",
        "- `sample input : `\n",
        "    - `var = 'python is Easy Language'`\n",
        "- `sample output :`\n",
        "    - `result : Language`"
      ]
    },
    {
      "cell_type": "code",
      "execution_count": null,
      "id": "f35de8b3",
      "metadata": {
        "id": "f35de8b3",
        "outputId": "d5133d08-3de5-496c-ee53-5e25db9aa64c",
        "colab": {
          "base_uri": "https://localhost:8080/"
        }
      },
      "outputs": [
        {
          "output_type": "stream",
          "name": "stdout",
          "text": [
            "Language\n"
          ]
        }
      ],
      "source": [
        "# Please write The solution Here for above question 7:\n",
        "var='python is Easy Language abcd'\n",
        "s=var.split()\n",
        "c=0\n",
        "for i in s:\n",
        "  if len(i)>c:\n",
        "    c=len(i)\n",
        "    res=i\n",
        "print(res)\n"
      ]
    },
    {
      "cell_type": "markdown",
      "id": "f349bdb7",
      "metadata": {
        "id": "f349bdb7"
      },
      "source": [
        "### Question 8: Write a Python program to capitalize the first letter of each word in a string [dont use built-in-function title].\n",
        "\n",
        "- `sample input : `\n",
        "    - `var = 'python is easy'`\n",
        "- `sample output :`\n",
        "    - `result : Python Is Easy`"
      ]
    },
    {
      "cell_type": "code",
      "execution_count": null,
      "id": "a1b4c4e6",
      "metadata": {
        "id": "a1b4c4e6",
        "outputId": "bdb5c780-8140-4fea-a664-10cde85e71a5",
        "colab": {
          "base_uri": "https://localhost:8080/"
        }
      },
      "outputs": [
        {
          "output_type": "stream",
          "name": "stdout",
          "text": [
            "Python Is Easy "
          ]
        }
      ],
      "source": [
        "# Please write The solution Here for above question 8:\n",
        "var='python is easy'\n",
        "s=var.split()\n",
        "for i in s:\n",
        "  print(i.capitalize(),end=' ')\n",
        "\n",
        "\n",
        "\n"
      ]
    },
    {
      "cell_type": "markdown",
      "id": "d2770696",
      "metadata": {
        "id": "d2770696"
      },
      "source": [
        "### Question 9: Write a Python program to find the frequency of each character in a string.\n",
        "\n",
        "- `sample input : `\n",
        "    - `var = 'sharuk khan'`\n",
        "- `sample output :`\n",
        "    - `result : {'s': 1, 'h': 2, 'a': 2, 'r': 1, 'u': 1, 'k': 2, ' ': 1, 'n': 1}`"
      ]
    },
    {
      "cell_type": "code",
      "execution_count": null,
      "id": "7fdc2e9c",
      "metadata": {
        "id": "7fdc2e9c",
        "outputId": "c36c42da-c1be-4691-d9a5-72d1dc73b74a",
        "colab": {
          "base_uri": "https://localhost:8080/"
        }
      },
      "outputs": [
        {
          "output_type": "stream",
          "name": "stdout",
          "text": [
            "{'s': 1, 'h': 2, 'a': 2, 'r': 1, 'u': 1, 'k': 2, ' ': 1, 'n': 1}\n"
          ]
        }
      ],
      "source": [
        "# Please write The solution Here for above question 9:\n",
        "var = 'sharuk khan'\n",
        "l={}\n",
        "for i in var:\n",
        "  if i not in l:\n",
        "    l[i]=1\n",
        "  else:\n",
        "    l[i]+=1\n",
        "print(l)"
      ]
    },
    {
      "cell_type": "markdown",
      "id": "5c9a3f09",
      "metadata": {
        "id": "5c9a3f09"
      },
      "source": [
        "### Question 10: write a python programme to find the sum of all the even characters based on Ascii values\n",
        "\n",
        "- `sample input : `\n",
        "    - `var = 'sharuk khan'`\n",
        "- `sample output :`\n",
        "    - `result : 464`\n"
      ]
    },
    {
      "cell_type": "code",
      "execution_count": null,
      "id": "57c0c30e",
      "metadata": {
        "id": "57c0c30e",
        "outputId": "d1a44976-78be-43f5-fa6a-2542fa5f7bc2",
        "colab": {
          "base_uri": "https://localhost:8080/"
        }
      },
      "outputs": [
        {
          "output_type": "stream",
          "name": "stdout",
          "text": [
            "464\n"
          ]
        }
      ],
      "source": [
        "# Please write The solution Here for above question 10:\n",
        "var = 'sharuk khan'\n",
        "c=0\n",
        "for i in var:\n",
        "  if ord(i)%2==0:\n",
        "    c=c+ord(i)\n",
        "\n",
        "print(c)\n",
        "\n",
        "# saikamal9797@gmail.com"
      ]
    },
    {
      "cell_type": "code",
      "execution_count": null,
      "id": "0cb2936c",
      "metadata": {
        "id": "0cb2936c"
      },
      "outputs": [],
      "source": []
    }
  ],
  "metadata": {
    "kernelspec": {
      "display_name": "Python 3 (ipykernel)",
      "language": "python",
      "name": "python3"
    },
    "language_info": {
      "codemirror_mode": {
        "name": "ipython",
        "version": 3
      },
      "file_extension": ".py",
      "mimetype": "text/x-python",
      "name": "python",
      "nbconvert_exporter": "python",
      "pygments_lexer": "ipython3",
      "version": "3.11.5"
    },
    "colab": {
      "provenance": []
    }
  },
  "nbformat": 4,
  "nbformat_minor": 5
}